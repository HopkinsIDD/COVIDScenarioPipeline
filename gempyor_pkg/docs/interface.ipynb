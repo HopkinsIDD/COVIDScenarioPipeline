{
 "cells": [
  {
   "cell_type": "code",
   "execution_count": 2,
   "id": "df7fcc9a-a860-4f6e-ac6c-2c224045f0df",
   "metadata": {
    "execution": {
     "iopub.execute_input": "2022-03-03T16:28:45.660151Z",
     "iopub.status.busy": "2022-03-03T16:28:45.659904Z",
     "iopub.status.idle": "2022-03-03T16:28:47.797205Z",
     "shell.execute_reply": "2022-03-03T16:28:47.796319Z",
     "shell.execute_reply.started": "2022-03-03T16:28:45.660125Z"
    },
    "tags": []
   },
   "outputs": [],
   "source": [
    "import gempyor"
   ]
  },
  {
   "cell_type": "code",
   "execution_count": 3,
   "id": "69de24d3-fd2c-40d1-9430-39d01a48e67c",
   "metadata": {
    "execution": {
     "iopub.execute_input": "2022-03-03T16:28:47.799351Z",
     "iopub.status.busy": "2022-03-03T16:28:47.799008Z",
     "iopub.status.idle": "2022-03-03T16:28:56.591872Z",
     "shell.execute_reply": "2022-03-03T16:28:56.591123Z",
     "shell.execute_reply.started": "2022-03-03T16:28:47.799324Z"
    },
    "tags": []
   },
   "outputs": [
    {
     "name": "stdout",
     "output_type": "stream",
     "text": [
      "  gempyor >> Running ***STOCHASTIC*** simulation;\n",
      "  gempyor >> Setup USA_inference; index: 1; run_id: test_run_id,\n",
      "  gempyor >> prefix: test_prefix/;\n"
     ]
    }
   ],
   "source": [
    "config_filepath = \"../tests/npi/config_npi.yml\"\n",
    "gempyor_inference_runner = gempyor.InferenceSimulator(\n",
    "    config_path=config_filepath,\n",
    "    run_id=\"test_run_id\",\n",
    "    prefix=\"test_prefix/\",\n",
    "    first_sim_index=1,\n",
    "    scenario=\"inference\",  # NPIs scenario to use\n",
    "    deathrate=\"med\",  # Outcome scenario to use\n",
    "    stoch_traj_flag=1,\n",
    "    spatial_path_prefix=\"../tests/npi/\",  # prefix where to find the folder indicated in spatial_setup$\n",
    ")"
   ]
  },
  {
   "cell_type": "code",
   "execution_count": null,
   "id": "d0799cf5-de20-4e2b-9940-8598fdd77fca",
   "metadata": {},
   "outputs": [],
   "source": []
  },
  {
   "cell_type": "code",
   "execution_count": 4,
   "id": "4207c80c-1fbd-4216-9011-71b8896f6a36",
   "metadata": {
    "execution": {
     "iopub.execute_input": "2022-03-03T16:28:56.593517Z",
     "iopub.status.busy": "2022-03-03T16:28:56.593164Z",
     "iopub.status.idle": "2022-03-03T16:29:10.073496Z",
     "shell.execute_reply": "2022-03-03T16:29:10.072189Z",
     "shell.execute_reply.started": "2022-03-03T16:28:56.593487Z"
    },
    "tags": []
   },
   "outputs": [],
   "source": [
    "gempyor_inference_runner.plot_transition_graph(output_file=\"full_graph\")\n",
    "gempyor_inference_runner.plot_transition_graph(\n",
    "    output_file=\"readable_graph\",\n",
    "    source_filters=[[\"age0to17\"], [\"OMICRON\", \"WILD\"]],\n",
    "    destination_filters=[[\"OMICRON\", \"WILD\"]],\n",
    ")"
   ]
  },
  {
   "cell_type": "code",
   "execution_count": null,
   "id": "63618148-81db-4fe0-9395-7f21878c1372",
   "metadata": {},
   "outputs": [],
   "source": []
  },
  {
   "cell_type": "code",
   "execution_count": 7,
   "id": "19969a7b-c3df-4ef3-a99f-227dda5391a5",
   "metadata": {
    "execution": {
     "iopub.execute_input": "2022-03-03T15:25:47.413995Z",
     "iopub.status.busy": "2022-03-03T15:25:47.413738Z",
     "iopub.status.idle": "2022-03-03T15:26:18.548176Z",
     "shell.execute_reply": "2022-03-03T15:26:18.547292Z",
     "shell.execute_reply.started": "2022-03-03T15:25:47.413967Z"
    },
    "tags": []
   },
   "outputs": [
    {
     "name": "stderr",
     "output_type": "stream",
     "text": [
      "INFO:root:[Outcome.structure] completed in 0.01 s\n"
     ]
    },
    {
     "name": "stdout",
     "output_type": "stream",
     "text": [
      "  gempyor >> Running ***STOCHASTIC*** simulation;\n",
      "  gempyor >> Setup USA_inference; index: 1; run_id: test_run_id,\n",
      "  gempyor >> prefix: test_prefix/;\n"
     ]
    },
    {
     "name": "stderr",
     "output_type": "stream",
     "text": [
      "INFO:root:[SEIR.compartments] completed in 24.32 s\n",
      "INFO:root:[>>> GEMPYOR onesim (from config)] completed in 24.34 s\n"
     ]
    },
    {
     "ename": "KeyboardInterrupt",
     "evalue": "",
     "output_type": "error",
     "traceback": [
      "\u001b[0;31m---------------------------------------------------------------------------\u001b[0m",
      "\u001b[0;31mKeyboardInterrupt\u001b[0m                         Traceback (most recent call last)",
      "\u001b[0;32m/var/folders/y5/jj4qlxkx619gkh07d2zt6h840000gn/T/ipykernel_93392/2855553478.py\u001b[0m in \u001b[0;36m<module>\u001b[0;34m\u001b[0m\n\u001b[1;32m     10\u001b[0m                                                 \u001b[0mspatial_path_prefix\u001b[0m \u001b[0;34m=\u001b[0m \u001b[0;34m'../tests/npi/'\u001b[0m \u001b[0;31m# prefix where to find the folder indicated in spatial_setup$\u001b[0m\u001b[0;34m\u001b[0m\u001b[0;34m\u001b[0m\u001b[0m\n\u001b[1;32m     11\u001b[0m )\n\u001b[0;32m---> 12\u001b[0;31m \u001b[0mgempyor_inference_runner\u001b[0m\u001b[0;34m.\u001b[0m\u001b[0mone_simulation\u001b[0m\u001b[0;34m(\u001b[0m\u001b[0msim_id2write\u001b[0m\u001b[0;34m=\u001b[0m\u001b[0;36m0\u001b[0m\u001b[0;34m)\u001b[0m\u001b[0;34m\u001b[0m\u001b[0;34m\u001b[0m\u001b[0m\n\u001b[0m\u001b[1;32m     13\u001b[0m \u001b[0mgempyor_inference_runner\u001b[0m\u001b[0;34m.\u001b[0m\u001b[0mone_simulation\u001b[0m\u001b[0;34m(\u001b[0m\u001b[0msim_id2write\u001b[0m\u001b[0;34m=\u001b[0m\u001b[0;36m0\u001b[0m\u001b[0;34m,\u001b[0m \u001b[0mload_ID\u001b[0m\u001b[0;34m=\u001b[0m\u001b[0mTRUE\u001b[0m\u001b[0;34m,\u001b[0m \u001b[0msim_id2load\u001b[0m\u001b[0;34m=\u001b[0m\u001b[0;36m0\u001b[0m\u001b[0;34m)\u001b[0m\u001b[0;34m\u001b[0m\u001b[0;34m\u001b[0m\u001b[0m\n",
      "\u001b[0;32m~/Documents/phd/COVIDScenarioPipeline/COVIDScenarioPipeline/gempyor_pkg/src/gempyor/interface.py\u001b[0m in \u001b[0;36mone_simulation\u001b[0;34m(self, sim_id2write, load_ID, sim_id2load, parallel)\u001b[0m\n\u001b[1;32m    219\u001b[0m                         \u001b[0mself\u001b[0m\u001b[0;34m.\u001b[0m\u001b[0mproportion_array\u001b[0m\u001b[0;34m,\u001b[0m\u001b[0;34m\u001b[0m\u001b[0;34m\u001b[0m\u001b[0m\n\u001b[1;32m    220\u001b[0m                         \u001b[0mself\u001b[0m\u001b[0;34m.\u001b[0m\u001b[0mproportion_info\u001b[0m\u001b[0;34m,\u001b[0m\u001b[0;34m\u001b[0m\u001b[0;34m\u001b[0m\u001b[0m\n\u001b[0;32m--> 221\u001b[0;31m                     ) = self.s.compartments.get_transition_array()\n\u001b[0m\u001b[1;32m    222\u001b[0m                     \u001b[0mself\u001b[0m\u001b[0;34m.\u001b[0m\u001b[0malready_built\u001b[0m \u001b[0;34m=\u001b[0m \u001b[0;32mTrue\u001b[0m\u001b[0;34m\u001b[0m\u001b[0;34m\u001b[0m\u001b[0m\n\u001b[1;32m    223\u001b[0m                 npi_seir = seir.build_npi_SEIR(\n",
      "\u001b[0;32m~/Documents/phd/COVIDScenarioPipeline/COVIDScenarioPipeline/gempyor_pkg/src/gempyor/compartments.py\u001b[0m in \u001b[0;36mget_transition_array\u001b[0;34m(self)\u001b[0m\n\u001b[1;32m    644\u001b[0m                         \u001b[0mrc\u001b[0m \u001b[0;34m=\u001b[0m \u001b[0;34m-\u001b[0m\u001b[0;36m1\u001b[0m\u001b[0;34m\u001b[0m\u001b[0;34m\u001b[0m\u001b[0m\n\u001b[1;32m    645\u001b[0m                         \u001b[0;32mfor\u001b[0m \u001b[0mcompartment\u001b[0m \u001b[0;32min\u001b[0m \u001b[0mrange\u001b[0m\u001b[0;34m(\u001b[0m\u001b[0mself\u001b[0m\u001b[0;34m.\u001b[0m\u001b[0mcompartments\u001b[0m\u001b[0;34m.\u001b[0m\u001b[0mshape\u001b[0m\u001b[0;34m[\u001b[0m\u001b[0;36m0\u001b[0m\u001b[0;34m]\u001b[0m\u001b[0;34m)\u001b[0m\u001b[0;34m:\u001b[0m\u001b[0;34m\u001b[0m\u001b[0;34m\u001b[0m\u001b[0m\n\u001b[0;32m--> 646\u001b[0;31m                             \u001b[0;32mif\u001b[0m \u001b[0mself\u001b[0m\u001b[0;34m.\u001b[0m\u001b[0mcompartments\u001b[0m\u001b[0;34m[\u001b[0m\u001b[0;34m\"name\"\u001b[0m\u001b[0;34m]\u001b[0m\u001b[0;34m[\u001b[0m\u001b[0mcompartment\u001b[0m\u001b[0;34m]\u001b[0m \u001b[0;34m==\u001b[0m \u001b[0melem3\u001b[0m\u001b[0;34m:\u001b[0m\u001b[0;34m\u001b[0m\u001b[0;34m\u001b[0m\u001b[0m\n\u001b[0m\u001b[1;32m    647\u001b[0m                                 \u001b[0mrc\u001b[0m \u001b[0;34m=\u001b[0m \u001b[0mcompartment\u001b[0m\u001b[0;34m\u001b[0m\u001b[0;34m\u001b[0m\u001b[0m\n\u001b[1;32m    648\u001b[0m                         \u001b[0;32mif\u001b[0m \u001b[0mrc\u001b[0m \u001b[0;34m==\u001b[0m \u001b[0;34m-\u001b[0m\u001b[0;36m1\u001b[0m\u001b[0;34m:\u001b[0m\u001b[0;34m\u001b[0m\u001b[0;34m\u001b[0m\u001b[0m\n",
      "\u001b[0;32m~/opt/miniconda3/envs/covidSProd6/lib/python3.9/site-packages/pandas/core/series.py\u001b[0m in \u001b[0;36m__getitem__\u001b[0;34m(self, key)\u001b[0m\n\u001b[1;32m    940\u001b[0m \u001b[0;34m\u001b[0m\u001b[0m\n\u001b[1;32m    941\u001b[0m         \u001b[0;32melif\u001b[0m \u001b[0mkey_is_scalar\u001b[0m\u001b[0;34m:\u001b[0m\u001b[0;34m\u001b[0m\u001b[0;34m\u001b[0m\u001b[0m\n\u001b[0;32m--> 942\u001b[0;31m             \u001b[0;32mreturn\u001b[0m \u001b[0mself\u001b[0m\u001b[0;34m.\u001b[0m\u001b[0m_get_value\u001b[0m\u001b[0;34m(\u001b[0m\u001b[0mkey\u001b[0m\u001b[0;34m)\u001b[0m\u001b[0;34m\u001b[0m\u001b[0;34m\u001b[0m\u001b[0m\n\u001b[0m\u001b[1;32m    943\u001b[0m \u001b[0;34m\u001b[0m\u001b[0m\n\u001b[1;32m    944\u001b[0m         \u001b[0;32mif\u001b[0m \u001b[0mis_hashable\u001b[0m\u001b[0;34m(\u001b[0m\u001b[0mkey\u001b[0m\u001b[0;34m)\u001b[0m\u001b[0;34m:\u001b[0m\u001b[0;34m\u001b[0m\u001b[0;34m\u001b[0m\u001b[0m\n",
      "\u001b[0;32m~/opt/miniconda3/envs/covidSProd6/lib/python3.9/site-packages/pandas/core/series.py\u001b[0m in \u001b[0;36m_get_value\u001b[0;34m(self, label, takeable)\u001b[0m\n\u001b[1;32m   1049\u001b[0m \u001b[0;34m\u001b[0m\u001b[0m\n\u001b[1;32m   1050\u001b[0m         \u001b[0;31m# Similar to Index.get_value, but we do not fall back to positional\u001b[0m\u001b[0;34m\u001b[0m\u001b[0;34m\u001b[0m\u001b[0m\n\u001b[0;32m-> 1051\u001b[0;31m         \u001b[0mloc\u001b[0m \u001b[0;34m=\u001b[0m \u001b[0mself\u001b[0m\u001b[0;34m.\u001b[0m\u001b[0mindex\u001b[0m\u001b[0;34m.\u001b[0m\u001b[0mget_loc\u001b[0m\u001b[0;34m(\u001b[0m\u001b[0mlabel\u001b[0m\u001b[0;34m)\u001b[0m\u001b[0;34m\u001b[0m\u001b[0;34m\u001b[0m\u001b[0m\n\u001b[0m\u001b[1;32m   1052\u001b[0m         \u001b[0;32mreturn\u001b[0m \u001b[0mself\u001b[0m\u001b[0;34m.\u001b[0m\u001b[0mindex\u001b[0m\u001b[0;34m.\u001b[0m\u001b[0m_get_values_for_loc\u001b[0m\u001b[0;34m(\u001b[0m\u001b[0mself\u001b[0m\u001b[0;34m,\u001b[0m \u001b[0mloc\u001b[0m\u001b[0;34m,\u001b[0m \u001b[0mlabel\u001b[0m\u001b[0;34m)\u001b[0m\u001b[0;34m\u001b[0m\u001b[0;34m\u001b[0m\u001b[0m\n\u001b[1;32m   1053\u001b[0m \u001b[0;34m\u001b[0m\u001b[0m\n",
      "\u001b[0;32m~/opt/miniconda3/envs/covidSProd6/lib/python3.9/site-packages/pandas/core/indexes/base.py\u001b[0m in \u001b[0;36mget_loc\u001b[0;34m(self, key, method, tolerance)\u001b[0m\n\u001b[1;32m   3359\u001b[0m             \u001b[0mcasted_key\u001b[0m \u001b[0;34m=\u001b[0m \u001b[0mself\u001b[0m\u001b[0;34m.\u001b[0m\u001b[0m_maybe_cast_indexer\u001b[0m\u001b[0;34m(\u001b[0m\u001b[0mkey\u001b[0m\u001b[0;34m)\u001b[0m\u001b[0;34m\u001b[0m\u001b[0;34m\u001b[0m\u001b[0m\n\u001b[1;32m   3360\u001b[0m             \u001b[0;32mtry\u001b[0m\u001b[0;34m:\u001b[0m\u001b[0;34m\u001b[0m\u001b[0;34m\u001b[0m\u001b[0m\n\u001b[0;32m-> 3361\u001b[0;31m                 \u001b[0;32mreturn\u001b[0m \u001b[0mself\u001b[0m\u001b[0;34m.\u001b[0m\u001b[0m_engine\u001b[0m\u001b[0;34m.\u001b[0m\u001b[0mget_loc\u001b[0m\u001b[0;34m(\u001b[0m\u001b[0mcasted_key\u001b[0m\u001b[0;34m)\u001b[0m\u001b[0;34m\u001b[0m\u001b[0;34m\u001b[0m\u001b[0m\n\u001b[0m\u001b[1;32m   3362\u001b[0m             \u001b[0;32mexcept\u001b[0m \u001b[0mKeyError\u001b[0m \u001b[0;32mas\u001b[0m \u001b[0merr\u001b[0m\u001b[0;34m:\u001b[0m\u001b[0;34m\u001b[0m\u001b[0;34m\u001b[0m\u001b[0m\n\u001b[1;32m   3363\u001b[0m                 \u001b[0;32mraise\u001b[0m \u001b[0mKeyError\u001b[0m\u001b[0;34m(\u001b[0m\u001b[0mkey\u001b[0m\u001b[0;34m)\u001b[0m \u001b[0;32mfrom\u001b[0m \u001b[0merr\u001b[0m\u001b[0;34m\u001b[0m\u001b[0;34m\u001b[0m\u001b[0m\n",
      "\u001b[0;31mKeyboardInterrupt\u001b[0m: "
     ]
    }
   ],
   "source": [
    "gempyor_inference_runner.one_simulation(sim_id2write=0)\n",
    "gempyor_inference_runner.one_simulation(sim_id2write=0, load_ID=TRUE, sim_id2load=0)"
   ]
  }
 ],
 "metadata": {
  "kernelspec": {
   "display_name": "Python (covidSProd6)",
   "language": "python",
   "name": "covidsprod6"
  },
  "language_info": {
   "codemirror_mode": {
    "name": "ipython",
    "version": 3
   },
   "file_extension": ".py",
   "mimetype": "text/x-python",
   "name": "python",
   "nbconvert_exporter": "python",
   "pygments_lexer": "ipython3",
   "version": "3.9.7"
  }
 },
 "nbformat": 4,
 "nbformat_minor": 5
}
